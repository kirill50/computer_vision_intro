{
 "cells": [
  {
   "cell_type": "markdown",
   "metadata": {
    "colab_type": "text",
    "id": "UdnuHPmndeUM"
   },
   "source": [
    "# Свёрточные нейронные сети. Часть 1."
   ]
  },
  {
   "cell_type": "markdown",
   "metadata": {
    "colab_type": "text",
    "id": "YwSETNJ4dl4f"
   },
   "source": [
    "## Переключение версии TensorFlow"
   ]
  },
  {
   "cell_type": "code",
   "execution_count": 1,
   "metadata": {
    "colab": {
     "base_uri": "https://localhost:8080/",
     "height": 34
    },
    "colab_type": "code",
    "executionInfo": {
     "elapsed": 816,
     "status": "ok",
     "timestamp": 1583349429688,
     "user": {
      "displayName": "Dmitry Korobchenko",
      "photoUrl": "https://lh3.googleusercontent.com/a-/AOh14GiR_zu5ey7cSjhhTZXOzRX-WoRqAHYVsSnM9NFQRQ=s64",
      "userId": "07436259423621433317"
     },
     "user_tz": -180
    },
    "id": "cqhfvqRrugoS",
    "outputId": "84ac26f9-c38a-4ef2-dbbf-832a4c9f538c"
   },
   "outputs": [
    {
     "name": "stderr",
     "output_type": "stream",
     "text": [
      "UsageError: Line magic function `%tensorflow_version` not found.\n"
     ]
    }
   ],
   "source": [
    "%tensorflow_version 2.x"
   ]
  },
  {
   "cell_type": "code",
   "execution_count": 0,
   "metadata": {
    "colab": {},
    "colab_type": "code",
    "id": "iv4yU3Gb4MlY"
   },
   "outputs": [],
   "source": [
    "%matplotlib inline\n",
    "import matplotlib.pyplot as plt\n",
    "import numpy as np\n",
    "\n",
    "import tensorflow as tf"
   ]
  },
  {
   "cell_type": "markdown",
   "metadata": {
    "colab_type": "text",
    "id": "q6xHT3Tp4Mll"
   },
   "source": [
    "## Загрузка и подготовка датасета MNIST"
   ]
  },
  {
   "cell_type": "code",
   "execution_count": 0,
   "metadata": {
    "colab": {
     "base_uri": "https://localhost:8080/",
     "height": 122
    },
    "colab_type": "code",
    "executionInfo": {
     "elapsed": 1197,
     "status": "ok",
     "timestamp": 1583349630794,
     "user": {
      "displayName": "Dmitry Korobchenko",
      "photoUrl": "https://lh3.googleusercontent.com/a-/AOh14GiR_zu5ey7cSjhhTZXOzRX-WoRqAHYVsSnM9NFQRQ=s64",
      "userId": "07436259423621433317"
     },
     "user_tz": -180
    },
    "id": "dlS7WInI4Mll",
    "outputId": "b094ea0c-694b-47aa-cbb3-d3e6b6c02d76"
   },
   "outputs": [
    {
     "name": "stdout",
     "output_type": "stream",
     "text": [
      "Downloading data from https://storage.googleapis.com/tensorflow/tf-keras-datasets/mnist.npz\n",
      "11493376/11490434 [==============================] - 0s 0us/step\n",
      "(60000, 28, 28, 1) float32\n",
      "(10000, 28, 28, 1) float32\n",
      "(60000,) uint8\n",
      "(10000,) uint8\n"
     ]
    }
   ],
   "source": [
    "(train_x, train_y), (test_x, test_y) = tf.keras.datasets.mnist.load_data()\n",
    "\n",
    "train_x = train_x.reshape(-1, 28, 28, 1).astype(np.float32) / 255.\n",
    "test_x = test_x.reshape(-1, 28, 28, 1).astype(np.float32) / 255.\n",
    "\n",
    "print(train_x.shape, train_x.dtype)\n",
    "print(test_x.shape, test_x.dtype)\n",
    "print(train_y.shape, train_y.dtype)\n",
    "print(test_y.shape, test_y.dtype)"
   ]
  },
  {
   "cell_type": "markdown",
   "metadata": {
    "colab_type": "text",
    "id": "atWq-gVF4Mls"
   },
   "source": [
    "## Визуализация датасета MNIST"
   ]
  },
  {
   "cell_type": "code",
   "execution_count": 0,
   "metadata": {
    "colab": {
     "base_uri": "https://localhost:8080/",
     "height": 349
    },
    "colab_type": "code",
    "executionInfo": {
     "elapsed": 1446,
     "status": "ok",
     "timestamp": 1583349679457,
     "user": {
      "displayName": "Dmitry Korobchenko",
      "photoUrl": "https://lh3.googleusercontent.com/a-/AOh14GiR_zu5ey7cSjhhTZXOzRX-WoRqAHYVsSnM9NFQRQ=s64",
      "userId": "07436259423621433317"
     },
     "user_tz": -180
    },
    "id": "vU7NEylz4Mls",
    "outputId": "042717cc-0e85-44ca-fa54-eaa2fefb90e0"
   },
   "outputs": [
    {
     "data": {
      "image/png": "[encoded data removed]",
      "text/plain": [
       "<Figure size 720x432 with 32 Axes>"
      ]
     },
     "metadata": {
      "tags": []
     },
     "output_type": "display_data"
    }
   ],
   "source": [
    "some_samples = train_x[:32, ...]\n",
    "\n",
    "fig = plt.figure(figsize=(10, 6))\n",
    "for j in range(some_samples.shape[0]):\n",
    "    ax = fig.add_subplot(4, 8, j+1)\n",
    "    ax.imshow(some_samples[j,:,:,0], cmap='gray')\n",
    "    plt.xticks([]), plt.yticks([])\n",
    "plt.show()"
   ]
  },
  {
   "cell_type": "markdown",
   "metadata": {
    "colab_type": "text",
    "id": "zMaiiMFJybQ3"
   },
   "source": [
    "## Создание модели CNN"
   ]
  },
  {
   "cell_type": "code",
   "execution_count": 0,
   "metadata": {
    "colab": {},
    "colab_type": "code",
    "id": "721WA2Rv4Mlv"
   },
   "outputs": [],
   "source": [
    "model = tf.keras.models.Sequential([\n",
    "    tf.keras.layers.Conv2D(32, (5, 5), padding='same', activation='relu'),\n",
    "    tf.keras.layers.MaxPool2D((2, 2), (2, 2)),\n",
    "    tf.keras.layers.Conv2D(64, (5, 5), padding='same', activation='relu'),\n",
    "    tf.keras.layers.MaxPool2D((2, 2), (2, 2)),\n",
    "    tf.keras.layers.Flatten(),\n",
    "    tf.keras.layers.Dense(256, activation='relu'),\n",
    "    tf.keras.layers.Dense(10, activation='softmax')\n",
    "])"
   ]
  },
  {
   "cell_type": "markdown",
   "metadata": {
    "colab_type": "text",
    "id": "2ZdP2FAvydLb"
   },
   "source": [
    "## Подготовка к обучению"
   ]
  },
  {
   "cell_type": "code",
   "execution_count": 0,
   "metadata": {
    "colab": {},
    "colab_type": "code",
    "id": "CpjT781p4Mly"
   },
   "outputs": [],
   "source": [
    "model.compile(optimizer='sgd',\n",
    "              loss='sparse_categorical_crossentropy',\n",
    "              metrics=['accuracy'])"
   ]
  },
  {
   "cell_type": "markdown",
   "metadata": {
    "colab_type": "text",
    "id": "76NLClJdygGi"
   },
   "source": [
    "## Обучение модели"
   ]
  },
  {
   "cell_type": "code",
   "execution_count": 0,
   "metadata": {
    "colab": {
     "base_uri": "https://localhost:8080/",
     "height": 193
    },
    "colab_type": "code",
    "executionInfo": {
     "elapsed": 34706,
     "status": "ok",
     "timestamp": 1583350392324,
     "user": {
      "displayName": "Dmitry Korobchenko",
      "photoUrl": "https://lh3.googleusercontent.com/a-/AOh14GiR_zu5ey7cSjhhTZXOzRX-WoRqAHYVsSnM9NFQRQ=s64",
      "userId": "07436259423621433317"
     },
     "user_tz": -180
    },
    "id": "-KZg-PpZ4Ml0",
    "outputId": "9398ed8a-693f-49c5-b1c7-f59e33e57454"
   },
   "outputs": [
    {
     "name": "stdout",
     "output_type": "stream",
     "text": [
      "Train on 60000 samples\n",
      "Epoch 1/4\n",
      "60000/60000 [==============================] - 12s 196us/sample - loss: 0.4211 - accuracy: 0.8767\n",
      "Epoch 2/4\n",
      "60000/60000 [==============================] - 5s 85us/sample - loss: 0.1160 - accuracy: 0.9650\n",
      "Epoch 3/4\n",
      "60000/60000 [==============================] - 5s 86us/sample - loss: 0.0785 - accuracy: 0.9759\n",
      "Epoch 4/4\n",
      "60000/60000 [==============================] - 5s 88us/sample - loss: 0.0624 - accuracy: 0.9811\n"
     ]
    },
    {
     "data": {
      "text/plain": [
       "<tensorflow.python.keras.callbacks.History at 0x7fe09016e630>"
      ]
     },
     "execution_count": 7,
     "metadata": {
      "tags": []
     },
     "output_type": "execute_result"
    }
   ],
   "source": [
    "NUM_EPOCHS = 4\n",
    "\n",
    "model.fit(train_x, train_y, epochs=NUM_EPOCHS)"
   ]
  },
  {
   "cell_type": "markdown",
   "metadata": {
    "colab_type": "text",
    "id": "UHrtMy04yk_Y"
   },
   "source": [
    "## Оценка качества модели"
   ]
  },
  {
   "cell_type": "code",
   "execution_count": 0,
   "metadata": {
    "colab": {
     "base_uri": "https://localhost:8080/",
     "height": 52
    },
    "colab_type": "code",
    "executionInfo": {
     "elapsed": 1445,
     "status": "ok",
     "timestamp": 1583350462172,
     "user": {
      "displayName": "Dmitry Korobchenko",
      "photoUrl": "https://lh3.googleusercontent.com/a-/AOh14GiR_zu5ey7cSjhhTZXOzRX-WoRqAHYVsSnM9NFQRQ=s64",
      "userId": "07436259423621433317"
     },
     "user_tz": -180
    },
    "id": "jckgAftM4Ml6",
    "outputId": "24094d77-d679-48f2-9591-0dfb6dabaac3"
   },
   "outputs": [
    {
     "name": "stdout",
     "output_type": "stream",
     "text": [
      "10000/10000 [==============================] - 1s 72us/sample - loss: 0.0502 - accuracy: 0.9834\n"
     ]
    },
    {
     "data": {
      "text/plain": [
       "[0.050153374559432265, 0.9834]"
      ]
     },
     "execution_count": 8,
     "metadata": {
      "tags": []
     },
     "output_type": "execute_result"
    }
   ],
   "source": [
    "model.evaluate(test_x, test_y)"
   ]
  },
  {
   "cell_type": "markdown",
   "metadata": {
    "colab_type": "text",
    "id": "A98idiZXyUmd"
   },
   "source": [
    "## Пример инференса модели"
   ]
  },
  {
   "cell_type": "code",
   "execution_count": 0,
   "metadata": {
    "colab": {
     "base_uri": "https://localhost:8080/",
     "height": 70
    },
    "colab_type": "code",
    "executionInfo": {
     "elapsed": 775,
     "status": "ok",
     "timestamp": 1583350619028,
     "user": {
      "displayName": "Dmitry Korobchenko",
      "photoUrl": "https://lh3.googleusercontent.com/a-/AOh14GiR_zu5ey7cSjhhTZXOzRX-WoRqAHYVsSnM9NFQRQ=s64",
      "userId": "07436259423621433317"
     },
     "user_tz": -180
    },
    "id": "EHq0cd95xsHj",
    "outputId": "c8b2e4dd-5114-475c-c533-380699524468"
   },
   "outputs": [
    {
     "name": "stdout",
     "output_type": "stream",
     "text": [
      "tf.Tensor(\n",
      "[7.3507198e-07 8.3028175e-07 2.5742671e-05 3.3747352e-04 1.1877451e-09\n",
      " 3.8906725e-07 4.8755487e-13 9.9959892e-01 9.5400800e-08 3.5944464e-05], shape=(10,), dtype=float32)\n"
     ]
    }
   ],
   "source": [
    "sample = test_x[0, ...]\n",
    "prediction = model(sample[None, ...])[0]\n",
    "print(prediction)"
   ]
  },
  {
   "cell_type": "markdown",
   "metadata": {
    "colab_type": "text",
    "id": "wvm5KqeN4Ml9"
   },
   "source": [
    "## Функция для инференса и отображения результата предсказания"
   ]
  },
  {
   "cell_type": "code",
   "execution_count": 0,
   "metadata": {
    "colab": {},
    "colab_type": "code",
    "id": "4qiIHDe_4Ml-"
   },
   "outputs": [],
   "source": [
    "def test_digit(sample):\n",
    "    \n",
    "    prediction = model(sample[None, ...])[0]\n",
    "    ans = np.argmax(prediction)\n",
    "    \n",
    "    fig = plt.figure(figsize=(12,4))\n",
    "\n",
    "    ax = fig.add_subplot(1, 2, 1)\n",
    "    ax.imshow(sample[:,:,0], cmap='gray')\n",
    "    plt.xticks([]), plt.yticks([])\n",
    "\n",
    "    ax = fig.add_subplot(1, 2, 2)\n",
    "    bar_list = ax.bar(np.arange(10), prediction, align='center')\n",
    "    bar_list[ans].set_color('g')\n",
    "    ax.set_xticks(np.arange(10))\n",
    "    ax.set_xlim([-1, 10])\n",
    "    ax.grid(True)\n",
    "\n",
    "    plt.show()\n",
    "    \n",
    "    print('Predicted number: {}'.format(ans))"
   ]
  },
  {
   "cell_type": "markdown",
   "metadata": {
    "colab_type": "text",
    "id": "0R6nsRvi4MmA"
   },
   "source": [
    "## Запуск предсказания для изображения случайной цифры из MNIST"
   ]
  },
  {
   "cell_type": "code",
   "execution_count": 0,
   "metadata": {
    "colab": {
     "base_uri": "https://localhost:8080/",
     "height": 300
    },
    "colab_type": "code",
    "executionInfo": {
     "elapsed": 684,
     "status": "ok",
     "timestamp": 1583350789175,
     "user": {
      "displayName": "Dmitry Korobchenko",
      "photoUrl": "https://lh3.googleusercontent.com/a-/AOh14GiR_zu5ey7cSjhhTZXOzRX-WoRqAHYVsSnM9NFQRQ=s64",
      "userId": "07436259423621433317"
     },
     "user_tz": -180
    },
    "id": "mfqVhDap4MmB",
    "outputId": "0de414e8-98f0-40d2-e0e3-98a945f644fb"
   },
   "outputs": [
    {
     "data": {
      "image/png": "[encoded data removed]",
      "text/plain": [
       "<Figure size 864x288 with 2 Axes>"
      ]
     },
     "metadata": {
      "tags": []
     },
     "output_type": "display_data"
    },
    {
     "name": "stdout",
     "output_type": "stream",
     "text": [
      "Predicted number: 5\n",
      "True Answer: 5\n"
     ]
    }
   ],
   "source": [
    "import random\n",
    "idx = random.randint(0, test_x.shape[0])\n",
    "sample = test_x[idx, ...]\n",
    "test_digit(sample)\n",
    "\n",
    "print('True Answer: {}'.format(test_y[idx]))"
   ]
  },
  {
   "cell_type": "markdown",
   "metadata": {
    "colab_type": "text",
    "id": "uTNjylb84MmH"
   },
   "source": [
    "## Запуск предсказания на нашем изображении"
   ]
  },
  {
   "cell_type": "code",
   "execution_count": 0,
   "metadata": {
    "colab": {
     "base_uri": "https://localhost:8080/",
     "height": 210
    },
    "colab_type": "code",
    "executionInfo": {
     "elapsed": 2584,
     "status": "ok",
     "timestamp": 1583350850819,
     "user": {
      "displayName": "Dmitry Korobchenko",
      "photoUrl": "https://lh3.googleusercontent.com/a-/AOh14GiR_zu5ey7cSjhhTZXOzRX-WoRqAHYVsSnM9NFQRQ=s64",
      "userId": "07436259423621433317"
     },
     "user_tz": -180
    },
    "id": "0RIic-rT4MmI",
    "outputId": "a6a5428c-d573-4b00-f8b4-17a1b715fcbd"
   },
   "outputs": [
    {
     "name": "stdout",
     "output_type": "stream",
     "text": [
      "--2020-03-04 19:40:48--  https://raw.githubusercontent.com/dkorobchenko-nv/dl-demo/master/mnist/digit.png\n",
      "Resolving raw.githubusercontent.com (raw.githubusercontent.com)... 151.101.0.133, 151.101.64.133, 151.101.128.133, ...\n",
      "Connecting to raw.githubusercontent.com (raw.githubusercontent.com)|151.101.0.133|:443... connected.\n",
      "HTTP request sent, awaiting response... 200 OK\n",
      "Length: 16356 (16K) [image/png]\n",
      "Saving to: ‘digit.png’\n",
      "\n",
      "\r",
      "digit.png             0%[                    ]       0  --.-KB/s               \r",
      "digit.png           100%[===================>]  15.97K  --.-KB/s    in 0.007s  \n",
      "\n",
      "2020-03-04 19:40:48 (2.30 MB/s) - ‘digit.png’ saved [16356/16356]\n",
      "\n"
     ]
    }
   ],
   "source": [
    "def load_and_prepare_image(fpath):\n",
    "    import imageio\n",
    "    from skimage.transform import resize\n",
    "    img = imageio.imread(fpath, pilmode=\"RGB\")\n",
    "    img = img.astype(np.float32)/255\n",
    "    img = resize(img, (28, 28), order=3, mode='reflect', anti_aliasing=True)\n",
    "    img = (1. - img).astype(np.float32)\n",
    "    img = np.mean(img, axis=2)\n",
    "    img = np.reshape(img, (28, 28, 1))\n",
    "    return img\n",
    "\n",
    "if 1:\n",
    "    !wget https://raw.githubusercontent.com/dkorobchenko-nv/dl-demo/master/mnist/digit.png"
   ]
  },
  {
   "cell_type": "code",
   "execution_count": 0,
   "metadata": {
    "colab": {
     "base_uri": "https://localhost:8080/",
     "height": 282
    },
    "colab_type": "code",
    "executionInfo": {
     "elapsed": 1018,
     "status": "ok",
     "timestamp": 1583350854041,
     "user": {
      "displayName": "Dmitry Korobchenko",
      "photoUrl": "https://lh3.googleusercontent.com/a-/AOh14GiR_zu5ey7cSjhhTZXOzRX-WoRqAHYVsSnM9NFQRQ=s64",
      "userId": "07436259423621433317"
     },
     "user_tz": -180
    },
    "id": "UjBA-W6A1p6t",
    "outputId": "693a135b-fc49-4638-d22b-215f84601933"
   },
   "outputs": [
    {
     "data": {
      "image/png": "[encoded data removed]",
      "text/plain": [
       "<Figure size 864x288 with 2 Axes>"
      ]
     },
     "metadata": {
      "tags": []
     },
     "output_type": "display_data"
    },
    {
     "name": "stdout",
     "output_type": "stream",
     "text": [
      "Predicted number: 3\n"
     ]
    }
   ],
   "source": [
    "img = load_and_prepare_image('./digit.png')\n",
    "test_digit(img)"
   ]
  }
 ],
 "metadata": {
  "accelerator": "GPU",
  "colab": {
   "collapsed_sections": [],
   "name": "2_1_CNN_Keras.ipynb",
   "provenance": []
  },
  "kernelspec": {
   "display_name": "Python 3",
   "language": "python",
   "name": "python3"
  },
  "language_info": {
   "codemirror_mode": {
    "name": "ipython",
    "version": 3
   },
   "file_extension": ".py",
   "mimetype": "text/x-python",
   "name": "python",
   "nbconvert_exporter": "python",
   "pygments_lexer": "ipython3",
   "version": "3.7.4"
  }
 },
 "nbformat": 4,
 "nbformat_minor": 1
}
