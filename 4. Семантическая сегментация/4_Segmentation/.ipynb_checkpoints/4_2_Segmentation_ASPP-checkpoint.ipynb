{
 "cells": [
  {
   "cell_type": "markdown",
   "metadata": {
    "colab_type": "text",
    "id": "wVsiOtnw65OQ"
   },
   "source": [
    "# Семантическая Сегментация. Часть 2."
   ]
  },
  {
   "cell_type": "code",
   "execution_count": 0,
   "metadata": {
    "colab": {
     "base_uri": "https://localhost:8080/",
     "height": 34
    },
    "colab_type": "code",
    "executionInfo": {
     "elapsed": 759,
     "status": "ok",
     "timestamp": 1584741063379,
     "user": {
      "displayName": "Dmitry Korobchenko",
      "photoUrl": "https://lh3.googleusercontent.com/a-/AOh14GiR_zu5ey7cSjhhTZXOzRX-WoRqAHYVsSnM9NFQRQ=s64",
      "userId": "07436259423621433317"
     },
     "user_tz": -180
    },
    "id": "982oMTcKUHNA",
    "outputId": "b3f4ce25-0ae5-427c-96f7-670e4fc6920c"
   },
   "outputs": [
    {
     "name": "stdout",
     "output_type": "stream",
     "text": [
      "TensorFlow 2.x selected.\n"
     ]
    }
   ],
   "source": [
    "%tensorflow_version 2.x"
   ]
  },
  {
   "cell_type": "code",
   "execution_count": 1,
   "metadata": {
    "colab": {},
    "colab_type": "code",
    "id": "gaMg5neBLpir"
   },
   "outputs": [],
   "source": [
    "import tensorflow as tf"
   ]
  },
  {
   "cell_type": "markdown",
   "metadata": {
    "colab_type": "text",
    "id": "bRGAiaSk6_Gj"
   },
   "source": [
    "## Модель ASPP"
   ]
  },
  {
   "cell_type": "code",
   "execution_count": 2,
   "metadata": {
    "colab": {},
    "colab_type": "code",
    "id": "xRU14xxDLpje"
   },
   "outputs": [],
   "source": [
    "class ASPPBlock(tf.keras.Model):\n",
    "    def __init__(self):\n",
    "        super().__init__()\n",
    "        self.conv1 = tf.keras.layers.Conv2D(256, (1, 1), padding='same', activation='relu')\n",
    "        #разряженная свертка dilation_rate = 6 - берем каждый 6-ой пиксель\n",
    "        self.conv2 = tf.keras.layers.Conv2D(256, (3, 3), dilation_rate=6, padding='same', activation='relu')\n",
    "        self.conv3 = tf.keras.layers.Conv2D(256, (3, 3), dilation_rate=12, padding='same', activation='relu')\n",
    "        self.conv4 = tf.keras.layers.Conv2D(256, (3, 3), dilation_rate=18, padding='same', activation='relu')\n",
    "        self.conv5 = tf.keras.layers.Conv2D(256, (1, 1), padding='same', activation='relu')\n",
    "\n",
    "    def call(self, inp, is_training=False):\n",
    "        out1 = self.conv1(inp)\n",
    "        out2 = self.conv2(inp)\n",
    "        out3 = self.conv3(inp)\n",
    "        out4 = self.conv4(inp)\n",
    "        out = tf.concat([out1, out2, out3, out4], axis=3) #объединили 4 свертки получили тензор размером 1024\n",
    "        out = self.conv5(out) #понижаем размерность каналов обратно до 256\n",
    "        return out\n",
    "    \n",
    "class ASPPNet(tf.keras.Model):\n",
    "    def __init__(self):\n",
    "        super().__init__()\n",
    "        self.conv1 = tf.keras.layers.Conv2D(64, (3, 3), padding='same', activation='relu')\n",
    "        self.conv2 = tf.keras.layers.Conv2D(64, (3, 3), padding='same', activation='relu')\n",
    "        self.conv3 = tf.keras.layers.Conv2D(128, (3, 3), padding='same', activation='relu')\n",
    "        self.conv4 = tf.keras.layers.Conv2D(128, (3, 3), padding='same', activation='relu')\n",
    "        self.conv5 = tf.keras.layers.Conv2D(256, (3, 3), padding='same', activation='relu')\n",
    "        self.conv6 = tf.keras.layers.Conv2D(256, (3, 3), padding='same', activation='relu')\n",
    "        self.conv7 = tf.keras.layers.Conv2D(512, (3, 3), padding='same', activation='relu')\n",
    "        self.conv8 = tf.keras.layers.Conv2D(512, (3, 3), padding='same', activation='relu')\n",
    "        self.conv9 = tf.keras.layers.Conv2D(512, (3, 3), padding='same', activation='relu')\n",
    "        self.conv10 = tf.keras.layers.Conv2D(512, (3, 3), padding='same', activation='relu')\n",
    "\n",
    "        self.conv11 = tf.keras.layers.Conv2D(48, (1, 1), padding='same', activation='relu')\n",
    "        self.conv12 = tf.keras.layers.Conv2D(256, (3, 3), padding='same', activation='relu')\n",
    "        self.conv13 = tf.keras.layers.Conv2D(256, (3, 3), padding='same', activation='relu')\n",
    "        self.conv14 = tf.keras.layers.Conv2D(1, (1, 1), padding='same', activation=None)\n",
    "\n",
    "        self.maxpool = tf.keras.layers.MaxPooling2D((2, 2), (2, 2), padding='same')\n",
    "\n",
    "        self.aspp = ASPPBlock()\n",
    "\n",
    "    def call(self, x):\n",
    "\n",
    "        out = self.conv1(x)\n",
    "        out = self.conv2(out)\n",
    "        out = self.maxpool(out)\n",
    "        out = self.conv3(out)\n",
    "        out = self.conv4(out)\n",
    "        out = self.maxpool(out)\n",
    "        out = self.conv5(out)\n",
    "        out = self.conv6(out)\n",
    "        out_enc_mid = out\n",
    "        out = self.maxpool(out)\n",
    "        out = self.conv7(out)\n",
    "        out = self.conv8(out)\n",
    "        out = self.maxpool(out)\n",
    "        out = self.conv9(out)\n",
    "        out = self.conv10(out)\n",
    "\n",
    "        out = self.aspp(out)\n",
    "        #resize до размера out_enc_mid, [1:3] - высота и ширина\n",
    "        out = tf.image.resize(out, tf.shape(out_enc_mid)[1:3], tf.image.ResizeMethod.BILINEAR) \n",
    "\n",
    "        out_enc_mid = self.conv11(out_enc_mid)\n",
    "\n",
    "        out = tf.concat([out, out_enc_mid], axis=3)\n",
    "\n",
    "        out = self.conv12(out)\n",
    "        out = self.conv13(out)\n",
    "        out = self.conv14(out)\n",
    "\n",
    "        out = tf.image.resize(out, tf.shape(x)[1:3], tf.image.ResizeMethod.BILINEAR)\n",
    "        out = tf.nn.sigmoid(out)\n",
    "        return out\n",
    "    \n",
    "model = ASPPNet()"
   ]
  }
 ],
 "metadata": {
  "accelerator": "GPU",
  "colab": {
   "collapsed_sections": [],
   "name": "4_2_Segmentation_ASPP.ipynb",
   "provenance": []
  },
  "kernelspec": {
   "display_name": "Python 3",
   "language": "python",
   "name": "python3"
  },
  "language_info": {
   "codemirror_mode": {
    "name": "ipython",
    "version": 3
   },
   "file_extension": ".py",
   "mimetype": "text/x-python",
   "name": "python",
   "nbconvert_exporter": "python",
   "pygments_lexer": "ipython3",
   "version": "3.7.4"
  }
 },
 "nbformat": 4,
 "nbformat_minor": 1
}
